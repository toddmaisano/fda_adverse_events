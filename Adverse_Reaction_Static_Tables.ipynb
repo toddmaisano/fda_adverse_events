{
 "cells": [
  {
   "cell_type": "code",
   "execution_count": 0,
   "metadata": {
    "application/vnd.databricks.v1+cell": {
     "cellMetadata": {
      "byteLimit": 2048000,
      "rowLimit": 10000
     },
     "inputWidgets": {},
     "nuid": "00b4395a-436e-4489-bc95-95bb967c237d",
     "showTitle": false,
     "tableResultSettingsMap": {},
     "title": ""
    }
   },
   "outputs": [],
   "source": [
    "from pyspark.sql import SparkSession, Window\n",
    "from pyspark.sql.types import *\n",
    "from pyspark.sql.functions import col, lit, length, lower\n"
   ]
  },
  {
   "cell_type": "code",
   "execution_count": 0,
   "metadata": {
    "application/vnd.databricks.v1+cell": {
     "cellMetadata": {
      "byteLimit": 2048000,
      "rowLimit": 10000
     },
     "inputWidgets": {},
     "nuid": "082f7476-bb5e-4f8c-99cb-676f4616b9e2",
     "showTitle": false,
     "tableResultSettingsMap": {},
     "title": ""
    }
   },
   "outputs": [
    {
     "output_type": "display_data",
     "data": {
      "text/html": [
       "<style scoped>\n",
       "  .table-result-container {\n",
       "    max-height: 300px;\n",
       "    overflow: auto;\n",
       "  }\n",
       "  table, th, td {\n",
       "    border: 1px solid black;\n",
       "    border-collapse: collapse;\n",
       "  }\n",
       "  th, td {\n",
       "    padding: 5px;\n",
       "  }\n",
       "  th {\n",
       "    text-align: left;\n",
       "  }\n",
       "</style><div class='table-result-container'><table class='table-result'><thead style='background-color: white'><tr><th>country</th><th>country_code</th></tr></thead><tbody><tr><td>Afghanistan</td><td>AF</td></tr><tr><td>Albania</td><td>AL</td></tr><tr><td>Algeria</td><td>DZ</td></tr><tr><td>American Samoa</td><td>AS</td></tr><tr><td>Andorra</td><td>AD</td></tr><tr><td>Angola</td><td>AO</td></tr><tr><td>Anguilla</td><td>AI</td></tr><tr><td>Antarctica</td><td>AQ</td></tr><tr><td>Antigua and Barbuda</td><td>AG</td></tr><tr><td>Argentina</td><td>AR</td></tr><tr><td>Armenia</td><td>AM</td></tr><tr><td>Aruba</td><td>AW</td></tr><tr><td>Australia</td><td>AU</td></tr><tr><td>Austria</td><td>AT</td></tr><tr><td>Azerbaijan</td><td>AZ</td></tr><tr><td>Bahamas</td><td>BS</td></tr><tr><td>Bahrain</td><td>BH</td></tr><tr><td>Bangladesh</td><td>BD</td></tr><tr><td>Barbados</td><td>BB</td></tr><tr><td>Belarus</td><td>BY</td></tr><tr><td>Belgium</td><td>BE</td></tr><tr><td>Belize</td><td>BZ</td></tr><tr><td>Benin</td><td>BJ</td></tr><tr><td>Bermuda</td><td>BM</td></tr><tr><td>Bhutan</td><td>BT</td></tr><tr><td>Bolivia</td><td>BO</td></tr><tr><td>Bonaire, Sint Eustatius and Saba</td><td>BQ</td></tr><tr><td>Bosnia and Herzegovina</td><td>BA</td></tr><tr><td>Botswana</td><td>BW</td></tr><tr><td>Bouvet Island</td><td>BV</td></tr><tr><td>Brazil</td><td>BR</td></tr><tr><td>British Indian Ocean Territory</td><td>IO</td></tr><tr><td>Brunei Darussalam</td><td>BN</td></tr><tr><td>Bulgaria</td><td>BG</td></tr><tr><td>Burkina Faso</td><td>BF</td></tr><tr><td>Burundi</td><td>BI</td></tr><tr><td>Cambodia</td><td>KH</td></tr><tr><td>Cameroon</td><td>CM</td></tr><tr><td>Canada</td><td>CA</td></tr><tr><td>Cape Verde</td><td>CV</td></tr><tr><td>Cayman Islands</td><td>KY</td></tr><tr><td>Central African Republic</td><td>CF</td></tr><tr><td>Chad</td><td>TD</td></tr><tr><td>Chile</td><td>CL</td></tr><tr><td>China</td><td>CN</td></tr><tr><td>Christmas Island</td><td>CX</td></tr><tr><td>Cocos (Keeling) Islands</td><td>CC</td></tr><tr><td>Colombia</td><td>CO</td></tr><tr><td>Comoros</td><td>KM</td></tr><tr><td>Congo</td><td>CG</td></tr><tr><td>Congo, the Democratic Republic of the</td><td>CD</td></tr><tr><td>Cook Islands</td><td>CK</td></tr><tr><td>Costa Rica</td><td>CR</td></tr><tr><td>Croatia</td><td>HR</td></tr><tr><td>Cuba</td><td>CU</td></tr><tr><td>Curaçao</td><td>CW</td></tr><tr><td>Cyprus</td><td>CY</td></tr><tr><td>Czech Republic</td><td>CZ</td></tr><tr><td>Côte d'Ivoire</td><td>CI</td></tr><tr><td>Denmark</td><td>DK</td></tr><tr><td>Djibouti</td><td>DJ</td></tr><tr><td>Dominica</td><td>DM</td></tr><tr><td>Dominican Republic</td><td>DO</td></tr><tr><td>Ecuador</td><td>EC</td></tr><tr><td>Egypt</td><td>EG</td></tr><tr><td>El Salvador</td><td>SV</td></tr><tr><td>Equatorial Guinea</td><td>GQ</td></tr><tr><td>Eritrea</td><td>ER</td></tr><tr><td>Estonia</td><td>EE</td></tr><tr><td>Ethiopia</td><td>ET</td></tr><tr><td>Falkland Islands (Malvinas)</td><td>FK</td></tr><tr><td>Faroe Islands</td><td>FO</td></tr><tr><td>Fiji</td><td>FJ</td></tr><tr><td>Finland</td><td>FI</td></tr><tr><td>France</td><td>FR</td></tr><tr><td>French Guiana</td><td>GF</td></tr><tr><td>French Polynesia</td><td>PF</td></tr><tr><td>French Southern Territories</td><td>TF</td></tr><tr><td>Gabon</td><td>GA</td></tr><tr><td>Gambia</td><td>GM</td></tr><tr><td>Georgia</td><td>GE</td></tr><tr><td>Germany</td><td>DE</td></tr><tr><td>Ghana</td><td>GH</td></tr><tr><td>Gibraltar</td><td>GI</td></tr><tr><td>Greece</td><td>GR</td></tr><tr><td>Greenland</td><td>GL</td></tr><tr><td>Grenada</td><td>GD</td></tr><tr><td>Guadeloupe</td><td>GP</td></tr><tr><td>Guam</td><td>GU</td></tr><tr><td>Guatemala</td><td>GT</td></tr><tr><td>Guernsey</td><td>GG</td></tr><tr><td>Guinea</td><td>GN</td></tr><tr><td>Guinea-Bissau</td><td>GW</td></tr><tr><td>Guyana</td><td>GY</td></tr><tr><td>Haiti</td><td>HT</td></tr><tr><td>Heard Island and McDonald Islands</td><td>HM</td></tr><tr><td>Holy See (Vatican City State)</td><td>VA</td></tr><tr><td>Honduras</td><td>HN</td></tr><tr><td>Hong Kong</td><td>HK</td></tr><tr><td>Hungary</td><td>HU</td></tr><tr><td>Iceland</td><td>IS</td></tr><tr><td>India</td><td>IN</td></tr><tr><td>Indonesia</td><td>ID</td></tr><tr><td>Iran, Islamic Republic of</td><td>IR</td></tr><tr><td>Iraq</td><td>IQ</td></tr><tr><td>Ireland</td><td>IE</td></tr><tr><td>Isle of Man</td><td>IM</td></tr><tr><td>Israel</td><td>IL</td></tr><tr><td>Italy</td><td>IT</td></tr><tr><td>Jamaica</td><td>JM</td></tr><tr><td>Japan</td><td>JP</td></tr><tr><td>Jersey</td><td>JE</td></tr><tr><td>Jordan</td><td>JO</td></tr><tr><td>Kazakhstan</td><td>KZ</td></tr><tr><td>Kenya</td><td>KE</td></tr><tr><td>Kiribati</td><td>KI</td></tr><tr><td>Korea, Democratic People's Republic of</td><td>KP</td></tr><tr><td>Korea, Republic of</td><td>KR</td></tr><tr><td>Kuwait</td><td>KW</td></tr><tr><td>Kyrgyzstan</td><td>KG</td></tr><tr><td>Lao People's Democratic Republic</td><td>LA</td></tr><tr><td>Latvia</td><td>LV</td></tr><tr><td>Lebanon</td><td>LB</td></tr><tr><td>Lesotho</td><td>LS</td></tr><tr><td>Liberia</td><td>LR</td></tr><tr><td>Libya</td><td>LY</td></tr><tr><td>Liechtenstein</td><td>LI</td></tr><tr><td>Lithuania</td><td>LT</td></tr><tr><td>Luxembourg</td><td>LU</td></tr><tr><td>Macao</td><td>MO</td></tr><tr><td>Macedonia, the Former Yugoslav Republic of</td><td>MK</td></tr><tr><td>Madagascar</td><td>MG</td></tr><tr><td>Malawi</td><td>MW</td></tr><tr><td>Malaysia</td><td>MY</td></tr><tr><td>Maldives</td><td>MV</td></tr><tr><td>Mali</td><td>ML</td></tr><tr><td>Malta</td><td>MT</td></tr><tr><td>Marshall Islands</td><td>MH</td></tr><tr><td>Martinique</td><td>MQ</td></tr><tr><td>Mauritania</td><td>MR</td></tr><tr><td>Mauritius</td><td>MU</td></tr><tr><td>Mayotte</td><td>YT</td></tr><tr><td>Mexico</td><td>MX</td></tr><tr><td>Micronesia, Federated States of</td><td>FM</td></tr><tr><td>Moldova, Republic of</td><td>MD</td></tr><tr><td>Monaco</td><td>MC</td></tr><tr><td>Mongolia</td><td>MN</td></tr><tr><td>Montenegro</td><td>ME</td></tr><tr><td>Montserrat</td><td>MS</td></tr><tr><td>Morocco</td><td>MA</td></tr><tr><td>Mozambique</td><td>MZ</td></tr><tr><td>Myanmar</td><td>MM</td></tr><tr><td>Namibia</td><td>NA</td></tr><tr><td>Nauru</td><td>NR</td></tr><tr><td>Nepal</td><td>NP</td></tr><tr><td>Netherlands</td><td>NL</td></tr><tr><td>New Caledonia</td><td>NC</td></tr><tr><td>New Zealand</td><td>NZ</td></tr><tr><td>Nicaragua</td><td>NI</td></tr><tr><td>Niger</td><td>NE</td></tr><tr><td>Nigeria</td><td>NG</td></tr><tr><td>Niue</td><td>NU</td></tr><tr><td>Norfolk Island</td><td>NF</td></tr><tr><td>Northern Mariana Islands</td><td>MP</td></tr><tr><td>Norway</td><td>NO</td></tr><tr><td>Oman</td><td>OM</td></tr><tr><td>Pakistan</td><td>PK</td></tr><tr><td>Palau</td><td>PW</td></tr><tr><td>Palestine, State of</td><td>PS</td></tr><tr><td>Panama</td><td>PA</td></tr><tr><td>Papua New Guinea</td><td>PG</td></tr><tr><td>Paraguay</td><td>PY</td></tr><tr><td>Peru</td><td>PE</td></tr><tr><td>Philippines</td><td>PH</td></tr><tr><td>Pitcairn</td><td>PN</td></tr><tr><td>Poland</td><td>PL</td></tr><tr><td>Portugal</td><td>PT</td></tr><tr><td>Puerto Rico</td><td>PR</td></tr><tr><td>Qatar</td><td>QA</td></tr><tr><td>Romania</td><td>RO</td></tr><tr><td>Russian Federation</td><td>RU</td></tr><tr><td>Rwanda</td><td>RW</td></tr><tr><td>Réunion</td><td>RE</td></tr><tr><td>Saint Barthélemy</td><td>BL</td></tr><tr><td>Saint Helena, Ascension and Tristan da Cunha</td><td>SH</td></tr><tr><td>Saint Kitts and Nevis</td><td>KN</td></tr><tr><td>Saint Lucia</td><td>LC</td></tr><tr><td>Saint Martin (French part)</td><td>MF</td></tr><tr><td>Saint Pierre and Miquelon</td><td>PM</td></tr><tr><td>Saint Vincent and the Grenadines</td><td>VC</td></tr><tr><td>Samoa</td><td>WS</td></tr><tr><td>San Marino</td><td>SM</td></tr><tr><td>Sao Tome and Principe</td><td>ST</td></tr><tr><td>Saudi Arabia</td><td>SA</td></tr><tr><td>Senegal</td><td>SN</td></tr><tr><td>Serbia</td><td>RS</td></tr><tr><td>Seychelles</td><td>SC</td></tr><tr><td>Sierra Leone</td><td>SL</td></tr><tr><td>Singapore</td><td>SG</td></tr><tr><td>Sint Maarten (Dutch part)</td><td>SX</td></tr><tr><td>Slovakia</td><td>SK</td></tr><tr><td>Slovenia</td><td>SI</td></tr><tr><td>Solomon Islands</td><td>SB</td></tr><tr><td>Somalia</td><td>SO</td></tr><tr><td>South Africa</td><td>ZA</td></tr><tr><td>South Georgia and the South Sandwich Islands</td><td>GS</td></tr><tr><td>South Sudan</td><td>SS</td></tr><tr><td>Spain</td><td>ES</td></tr><tr><td>Sri Lanka</td><td>LK</td></tr><tr><td>Sudan</td><td>SD</td></tr><tr><td>Suriname</td><td>SR</td></tr><tr><td>Svalbard and Jan Mayen</td><td>SJ</td></tr><tr><td>Swaziland</td><td>SZ</td></tr><tr><td>Sweden</td><td>SE</td></tr><tr><td>Switzerland</td><td>CH</td></tr><tr><td>Syrian Arab Republic</td><td>SY</td></tr><tr><td>Taiwan, Province of China</td><td>TW</td></tr><tr><td>Tajikistan</td><td>TJ</td></tr><tr><td>Tanzania, United Republic of</td><td>TZ</td></tr><tr><td>Thailand</td><td>TH</td></tr><tr><td>Timor-Leste</td><td>TL</td></tr><tr><td>Togo</td><td>TG</td></tr><tr><td>Tokelau</td><td>TK</td></tr><tr><td>Tonga</td><td>TO</td></tr><tr><td>Trinidad and Tobago</td><td>TT</td></tr><tr><td>Tunisia</td><td>TN</td></tr><tr><td>Turkey</td><td>TR</td></tr><tr><td>Turkmenistan</td><td>TM</td></tr><tr><td>Turks and Caicos Islands</td><td>TC</td></tr><tr><td>Tuvalu</td><td>TV</td></tr><tr><td>Uganda</td><td>UG</td></tr><tr><td>Ukraine</td><td>UA</td></tr><tr><td>United Arab Emirates</td><td>AE</td></tr><tr><td>United Kingdom</td><td>GB</td></tr><tr><td>United States</td><td>US</td></tr><tr><td>United States Minor Outlying Islands</td><td>UM</td></tr><tr><td>Uruguay</td><td>UY</td></tr><tr><td>Uzbekistan</td><td>UZ</td></tr><tr><td>Vanuatu</td><td>VU</td></tr><tr><td>Venezuela, Bolivarian Republic of</td><td>VE</td></tr><tr><td>Vietnam</td><td>VN</td></tr><tr><td>Virgin Islands, British</td><td>VG</td></tr><tr><td>Virgin Islands, U.S.</td><td>VI</td></tr><tr><td>Wallis and Futuna</td><td>WF</td></tr><tr><td>Western Sahara</td><td>EH</td></tr><tr><td>Yemen</td><td>YE</td></tr><tr><td>Zambia</td><td>ZM</td></tr><tr><td>Zimbabwe</td><td>ZW</td></tr><tr><td>Åland Islands</td><td>AX</td></tr></tbody></table></div>"
      ]
     },
     "metadata": {
      "application/vnd.databricks.v1+output": {
       "addedWidgets": {},
       "aggData": [],
       "aggError": "",
       "aggOverflow": false,
       "aggSchema": [],
       "aggSeriesLimitReached": false,
       "aggType": "",
       "arguments": {},
       "columnCustomDisplayInfos": {},
       "data": [
        [
         "Afghanistan",
         "AF"
        ],
        [
         "Albania",
         "AL"
        ],
        [
         "Algeria",
         "DZ"
        ],
        [
         "American Samoa",
         "AS"
        ],
        [
         "Andorra",
         "AD"
        ],
        [
         "Angola",
         "AO"
        ],
        [
         "Anguilla",
         "AI"
        ],
        [
         "Antarctica",
         "AQ"
        ],
        [
         "Antigua and Barbuda",
         "AG"
        ],
        [
         "Argentina",
         "AR"
        ],
        [
         "Armenia",
         "AM"
        ],
        [
         "Aruba",
         "AW"
        ],
        [
         "Australia",
         "AU"
        ],
        [
         "Austria",
         "AT"
        ],
        [
         "Azerbaijan",
         "AZ"
        ],
        [
         "Bahamas",
         "BS"
        ],
        [
         "Bahrain",
         "BH"
        ],
        [
         "Bangladesh",
         "BD"
        ],
        [
         "Barbados",
         "BB"
        ],
        [
         "Belarus",
         "BY"
        ],
        [
         "Belgium",
         "BE"
        ],
        [
         "Belize",
         "BZ"
        ],
        [
         "Benin",
         "BJ"
        ],
        [
         "Bermuda",
         "BM"
        ],
        [
         "Bhutan",
         "BT"
        ],
        [
         "Bolivia",
         "BO"
        ],
        [
         "Bonaire, Sint Eustatius and Saba",
         "BQ"
        ],
        [
         "Bosnia and Herzegovina",
         "BA"
        ],
        [
         "Botswana",
         "BW"
        ],
        [
         "Bouvet Island",
         "BV"
        ],
        [
         "Brazil",
         "BR"
        ],
        [
         "British Indian Ocean Territory",
         "IO"
        ],
        [
         "Brunei Darussalam",
         "BN"
        ],
        [
         "Bulgaria",
         "BG"
        ],
        [
         "Burkina Faso",
         "BF"
        ],
        [
         "Burundi",
         "BI"
        ],
        [
         "Cambodia",
         "KH"
        ],
        [
         "Cameroon",
         "CM"
        ],
        [
         "Canada",
         "CA"
        ],
        [
         "Cape Verde",
         "CV"
        ],
        [
         "Cayman Islands",
         "KY"
        ],
        [
         "Central African Republic",
         "CF"
        ],
        [
         "Chad",
         "TD"
        ],
        [
         "Chile",
         "CL"
        ],
        [
         "China",
         "CN"
        ],
        [
         "Christmas Island",
         "CX"
        ],
        [
         "Cocos (Keeling) Islands",
         "CC"
        ],
        [
         "Colombia",
         "CO"
        ],
        [
         "Comoros",
         "KM"
        ],
        [
         "Congo",
         "CG"
        ],
        [
         "Congo, the Democratic Republic of the",
         "CD"
        ],
        [
         "Cook Islands",
         "CK"
        ],
        [
         "Costa Rica",
         "CR"
        ],
        [
         "Croatia",
         "HR"
        ],
        [
         "Cuba",
         "CU"
        ],
        [
         "Curaçao",
         "CW"
        ],
        [
         "Cyprus",
         "CY"
        ],
        [
         "Czech Republic",
         "CZ"
        ],
        [
         "Côte d'Ivoire",
         "CI"
        ],
        [
         "Denmark",
         "DK"
        ],
        [
         "Djibouti",
         "DJ"
        ],
        [
         "Dominica",
         "DM"
        ],
        [
         "Dominican Republic",
         "DO"
        ],
        [
         "Ecuador",
         "EC"
        ],
        [
         "Egypt",
         "EG"
        ],
        [
         "El Salvador",
         "SV"
        ],
        [
         "Equatorial Guinea",
         "GQ"
        ],
        [
         "Eritrea",
         "ER"
        ],
        [
         "Estonia",
         "EE"
        ],
        [
         "Ethiopia",
         "ET"
        ],
        [
         "Falkland Islands (Malvinas)",
         "FK"
        ],
        [
         "Faroe Islands",
         "FO"
        ],
        [
         "Fiji",
         "FJ"
        ],
        [
         "Finland",
         "FI"
        ],
        [
         "France",
         "FR"
        ],
        [
         "French Guiana",
         "GF"
        ],
        [
         "French Polynesia",
         "PF"
        ],
        [
         "French Southern Territories",
         "TF"
        ],
        [
         "Gabon",
         "GA"
        ],
        [
         "Gambia",
         "GM"
        ],
        [
         "Georgia",
         "GE"
        ],
        [
         "Germany",
         "DE"
        ],
        [
         "Ghana",
         "GH"
        ],
        [
         "Gibraltar",
         "GI"
        ],
        [
         "Greece",
         "GR"
        ],
        [
         "Greenland",
         "GL"
        ],
        [
         "Grenada",
         "GD"
        ],
        [
         "Guadeloupe",
         "GP"
        ],
        [
         "Guam",
         "GU"
        ],
        [
         "Guatemala",
         "GT"
        ],
        [
         "Guernsey",
         "GG"
        ],
        [
         "Guinea",
         "GN"
        ],
        [
         "Guinea-Bissau",
         "GW"
        ],
        [
         "Guyana",
         "GY"
        ],
        [
         "Haiti",
         "HT"
        ],
        [
         "Heard Island and McDonald Islands",
         "HM"
        ],
        [
         "Holy See (Vatican City State)",
         "VA"
        ],
        [
         "Honduras",
         "HN"
        ],
        [
         "Hong Kong",
         "HK"
        ],
        [
         "Hungary",
         "HU"
        ],
        [
         "Iceland",
         "IS"
        ],
        [
         "India",
         "IN"
        ],
        [
         "Indonesia",
         "ID"
        ],
        [
         "Iran, Islamic Republic of",
         "IR"
        ],
        [
         "Iraq",
         "IQ"
        ],
        [
         "Ireland",
         "IE"
        ],
        [
         "Isle of Man",
         "IM"
        ],
        [
         "Israel",
         "IL"
        ],
        [
         "Italy",
         "IT"
        ],
        [
         "Jamaica",
         "JM"
        ],
        [
         "Japan",
         "JP"
        ],
        [
         "Jersey",
         "JE"
        ],
        [
         "Jordan",
         "JO"
        ],
        [
         "Kazakhstan",
         "KZ"
        ],
        [
         "Kenya",
         "KE"
        ],
        [
         "Kiribati",
         "KI"
        ],
        [
         "Korea, Democratic People's Republic of",
         "KP"
        ],
        [
         "Korea, Republic of",
         "KR"
        ],
        [
         "Kuwait",
         "KW"
        ],
        [
         "Kyrgyzstan",
         "KG"
        ],
        [
         "Lao People's Democratic Republic",
         "LA"
        ],
        [
         "Latvia",
         "LV"
        ],
        [
         "Lebanon",
         "LB"
        ],
        [
         "Lesotho",
         "LS"
        ],
        [
         "Liberia",
         "LR"
        ],
        [
         "Libya",
         "LY"
        ],
        [
         "Liechtenstein",
         "LI"
        ],
        [
         "Lithuania",
         "LT"
        ],
        [
         "Luxembourg",
         "LU"
        ],
        [
         "Macao",
         "MO"
        ],
        [
         "Macedonia, the Former Yugoslav Republic of",
         "MK"
        ],
        [
         "Madagascar",
         "MG"
        ],
        [
         "Malawi",
         "MW"
        ],
        [
         "Malaysia",
         "MY"
        ],
        [
         "Maldives",
         "MV"
        ],
        [
         "Mali",
         "ML"
        ],
        [
         "Malta",
         "MT"
        ],
        [
         "Marshall Islands",
         "MH"
        ],
        [
         "Martinique",
         "MQ"
        ],
        [
         "Mauritania",
         "MR"
        ],
        [
         "Mauritius",
         "MU"
        ],
        [
         "Mayotte",
         "YT"
        ],
        [
         "Mexico",
         "MX"
        ],
        [
         "Micronesia, Federated States of",
         "FM"
        ],
        [
         "Moldova, Republic of",
         "MD"
        ],
        [
         "Monaco",
         "MC"
        ],
        [
         "Mongolia",
         "MN"
        ],
        [
         "Montenegro",
         "ME"
        ],
        [
         "Montserrat",
         "MS"
        ],
        [
         "Morocco",
         "MA"
        ],
        [
         "Mozambique",
         "MZ"
        ],
        [
         "Myanmar",
         "MM"
        ],
        [
         "Namibia",
         "NA"
        ],
        [
         "Nauru",
         "NR"
        ],
        [
         "Nepal",
         "NP"
        ],
        [
         "Netherlands",
         "NL"
        ],
        [
         "New Caledonia",
         "NC"
        ],
        [
         "New Zealand",
         "NZ"
        ],
        [
         "Nicaragua",
         "NI"
        ],
        [
         "Niger",
         "NE"
        ],
        [
         "Nigeria",
         "NG"
        ],
        [
         "Niue",
         "NU"
        ],
        [
         "Norfolk Island",
         "NF"
        ],
        [
         "Northern Mariana Islands",
         "MP"
        ],
        [
         "Norway",
         "NO"
        ],
        [
         "Oman",
         "OM"
        ],
        [
         "Pakistan",
         "PK"
        ],
        [
         "Palau",
         "PW"
        ],
        [
         "Palestine, State of",
         "PS"
        ],
        [
         "Panama",
         "PA"
        ],
        [
         "Papua New Guinea",
         "PG"
        ],
        [
         "Paraguay",
         "PY"
        ],
        [
         "Peru",
         "PE"
        ],
        [
         "Philippines",
         "PH"
        ],
        [
         "Pitcairn",
         "PN"
        ],
        [
         "Poland",
         "PL"
        ],
        [
         "Portugal",
         "PT"
        ],
        [
         "Puerto Rico",
         "PR"
        ],
        [
         "Qatar",
         "QA"
        ],
        [
         "Romania",
         "RO"
        ],
        [
         "Russian Federation",
         "RU"
        ],
        [
         "Rwanda",
         "RW"
        ],
        [
         "Réunion",
         "RE"
        ],
        [
         "Saint Barthélemy",
         "BL"
        ],
        [
         "Saint Helena, Ascension and Tristan da Cunha",
         "SH"
        ],
        [
         "Saint Kitts and Nevis",
         "KN"
        ],
        [
         "Saint Lucia",
         "LC"
        ],
        [
         "Saint Martin (French part)",
         "MF"
        ],
        [
         "Saint Pierre and Miquelon",
         "PM"
        ],
        [
         "Saint Vincent and the Grenadines",
         "VC"
        ],
        [
         "Samoa",
         "WS"
        ],
        [
         "San Marino",
         "SM"
        ],
        [
         "Sao Tome and Principe",
         "ST"
        ],
        [
         "Saudi Arabia",
         "SA"
        ],
        [
         "Senegal",
         "SN"
        ],
        [
         "Serbia",
         "RS"
        ],
        [
         "Seychelles",
         "SC"
        ],
        [
         "Sierra Leone",
         "SL"
        ],
        [
         "Singapore",
         "SG"
        ],
        [
         "Sint Maarten (Dutch part)",
         "SX"
        ],
        [
         "Slovakia",
         "SK"
        ],
        [
         "Slovenia",
         "SI"
        ],
        [
         "Solomon Islands",
         "SB"
        ],
        [
         "Somalia",
         "SO"
        ],
        [
         "South Africa",
         "ZA"
        ],
        [
         "South Georgia and the South Sandwich Islands",
         "GS"
        ],
        [
         "South Sudan",
         "SS"
        ],
        [
         "Spain",
         "ES"
        ],
        [
         "Sri Lanka",
         "LK"
        ],
        [
         "Sudan",
         "SD"
        ],
        [
         "Suriname",
         "SR"
        ],
        [
         "Svalbard and Jan Mayen",
         "SJ"
        ],
        [
         "Swaziland",
         "SZ"
        ],
        [
         "Sweden",
         "SE"
        ],
        [
         "Switzerland",
         "CH"
        ],
        [
         "Syrian Arab Republic",
         "SY"
        ],
        [
         "Taiwan, Province of China",
         "TW"
        ],
        [
         "Tajikistan",
         "TJ"
        ],
        [
         "Tanzania, United Republic of",
         "TZ"
        ],
        [
         "Thailand",
         "TH"
        ],
        [
         "Timor-Leste",
         "TL"
        ],
        [
         "Togo",
         "TG"
        ],
        [
         "Tokelau",
         "TK"
        ],
        [
         "Tonga",
         "TO"
        ],
        [
         "Trinidad and Tobago",
         "TT"
        ],
        [
         "Tunisia",
         "TN"
        ],
        [
         "Turkey",
         "TR"
        ],
        [
         "Turkmenistan",
         "TM"
        ],
        [
         "Turks and Caicos Islands",
         "TC"
        ],
        [
         "Tuvalu",
         "TV"
        ],
        [
         "Uganda",
         "UG"
        ],
        [
         "Ukraine",
         "UA"
        ],
        [
         "United Arab Emirates",
         "AE"
        ],
        [
         "United Kingdom",
         "GB"
        ],
        [
         "United States",
         "US"
        ],
        [
         "United States Minor Outlying Islands",
         "UM"
        ],
        [
         "Uruguay",
         "UY"
        ],
        [
         "Uzbekistan",
         "UZ"
        ],
        [
         "Vanuatu",
         "VU"
        ],
        [
         "Venezuela, Bolivarian Republic of",
         "VE"
        ],
        [
         "Vietnam",
         "VN"
        ],
        [
         "Virgin Islands, British",
         "VG"
        ],
        [
         "Virgin Islands, U.S.",
         "VI"
        ],
        [
         "Wallis and Futuna",
         "WF"
        ],
        [
         "Western Sahara",
         "EH"
        ],
        [
         "Yemen",
         "YE"
        ],
        [
         "Zambia",
         "ZM"
        ],
        [
         "Zimbabwe",
         "ZW"
        ],
        [
         "Åland Islands",
         "AX"
        ]
       ],
       "datasetInfos": [],
       "dbfsResultPath": null,
       "isJsonSchema": true,
       "metadata": {},
       "overflow": false,
       "plotOptions": {
        "customPlotOptions": {},
        "displayType": "table",
        "pivotAggregation": null,
        "pivotColumns": null,
        "xColumns": null,
        "yColumns": null
       },
       "removedWidgets": [],
       "schema": [
        {
         "metadata": "{}",
         "name": "country",
         "type": "\"string\""
        },
        {
         "metadata": "{}",
         "name": "country_code",
         "type": "\"string\""
        }
       ],
       "type": "table"
      }
     },
     "output_type": "display_data"
    }
   ],
   "source": [
    "country_schema = StructType([\n",
    "    StructField(\"country\", StringType()),\n",
    "    StructField(\"country_code\", StringType())])\n",
    "\n",
    "\n",
    "data = [['Afghanistan' ,'AF'],\n",
    "['Albania', 'AL'],\n",
    "['Algeria', 'DZ'],\n",
    "['American Samoa', 'AS'],\n",
    "['Andorra', 'AD'],\n",
    "['Angola', 'AO'],\n",
    "['Anguilla', 'AI'],\n",
    "['Antarctica', 'AQ'],\n",
    "['Antigua and Barbuda', 'AG'],\n",
    "['Argentina', 'AR'],\n",
    "['Armenia', 'AM'],\n",
    "['Aruba', 'AW'],\n",
    "['Australia', 'AU'],\n",
    "['Austria', 'AT'],\n",
    "['Azerbaijan','AZ'],\n",
    "['Bahamas', 'BS'],\n",
    "['Bahrain', 'BH'],\n",
    "['Bangladesh', 'BD'],\n",
    "['Barbados', 'BB'],\n",
    "['Belarus', 'BY'],\n",
    "['Belgium', 'BE'],\n",
    "['Belize', 'BZ'],\n",
    "['Benin', 'BJ'],\n",
    "['Bermuda', 'BM'],\n",
    "['Bhutan', 'BT'],\n",
    "['Bolivia', 'BO'],\n",
    "['Bonaire, Sint Eustatius and Saba', 'BQ'],\n",
    "['Bosnia and Herzegovina', 'BA'],\n",
    "['Botswana', 'BW'],\n",
    "['Bouvet Island', 'BV'],\n",
    "['Brazil', 'BR'],\n",
    "['British Indian Ocean Territory', 'IO'],\n",
    "['Brunei Darussalam', 'BN'],\n",
    "['Bulgaria', 'BG'],\n",
    "['Burkina Faso', 'BF'],\n",
    "['Burundi', 'BI'],\n",
    "['Cambodia', 'KH'],\n",
    "['Cameroon', 'CM'],\n",
    "['Canada', 'CA'],\n",
    "['Cape Verde', 'CV'],\n",
    "['Cayman Islands', 'KY'],\n",
    "['Central African Republic', 'CF'],\n",
    "['Chad', 'TD'],\n",
    "['Chile', 'CL'],\n",
    "['China','CN'],\n",
    "['Christmas Island','CX'],\n",
    "['Cocos (Keeling) Islands','CC'],\n",
    "['Colombia','CO'],\n",
    "['Comoros','KM'],\n",
    "['Congo','CG'],\n",
    "['Congo, the Democratic Republic of the','CD'],\n",
    "['Cook Islands','CK'],\n",
    "['Costa Rica','CR'],\n",
    "['Croatia','HR'],\n",
    "['Cuba','CU'],\n",
    "['Curaçao','CW'],\n",
    "['Cyprus','CY'],\n",
    "['Czech Republic','CZ'],\n",
    "['Côte d\\'Ivoire','CI'],\n",
    "['Denmark','DK'],\n",
    "['Djibouti','DJ'],\n",
    "['Dominica','DM'],\n",
    "['Dominican Republic','DO'],\n",
    "['Ecuador','EC'],\n",
    "['Egypt','EG'],\n",
    "['El Salvador','SV'],\n",
    "['Equatorial Guinea','GQ'],\n",
    "['Eritrea','ER'],\n",
    "['Estonia','EE'],\n",
    "['Ethiopia','ET'],\n",
    "['Falkland Islands (Malvinas)','FK'],\n",
    "['Faroe Islands','FO'],\n",
    "['Fiji','FJ'],\n",
    "['Finland','FI'],\n",
    "['France','FR'],\n",
    "['French Guiana','GF'],\n",
    "['French Polynesia','PF'],\n",
    "['French Southern Territories','TF'],\n",
    "['Gabon','GA'],\n",
    "['Gambia','GM'],\n",
    "['Georgia','GE'],\n",
    "['Germany','DE'],\n",
    "['Ghana','GH'],\n",
    "['Gibraltar','GI'],\n",
    "['Greece','GR'],\n",
    "['Greenland','GL'],\n",
    "['Grenada','GD'],\n",
    "['Guadeloupe','GP'],\n",
    "['Guam','GU'],\n",
    "['Guatemala','GT'],\n",
    "['Guernsey','GG'],\n",
    "['Guinea','GN'],\n",
    "['Guinea-Bissau','GW'],\n",
    "['Guyana','GY'],\n",
    "['Haiti','HT'],\n",
    "['Heard Island and McDonald Islands','HM'],\n",
    "['Holy See (Vatican City State)','VA'],\n",
    "['Honduras','HN'],\n",
    "['Hong Kong','HK'],\n",
    "['Hungary','HU'],\n",
    "['Iceland','IS'],\n",
    "['India','IN'],\n",
    "['Indonesia','ID'],\n",
    "['Iran, Islamic Republic of','IR'],\n",
    "['Iraq','IQ'],\n",
    "['Ireland','IE'],\n",
    "['Isle of Man','IM'],\n",
    "['Israel','IL'],\n",
    "['Italy','IT'],\n",
    "['Jamaica','JM'],\n",
    "['Japan','JP'],\n",
    "['Jersey','JE'],\n",
    "['Jordan','JO'],\n",
    "['Kazakhstan','KZ'],\n",
    "['Kenya','KE'],\n",
    "['Kiribati','KI'],\n",
    "['Korea, Democratic People\\'s Republic of','KP'],\n",
    "['Korea, Republic of','KR'],\n",
    "['Kuwait','KW'],\n",
    "['Kyrgyzstan','KG'],\n",
    "['Lao People\\'s Democratic Republic','LA'],\n",
    "['Latvia','LV'],\n",
    "['Lebanon','LB'],\n",
    "['Lesotho','LS'],\n",
    "['Liberia','LR'],\n",
    "['Libya','LY'],\n",
    "['Liechtenstein','LI'],\n",
    "['Lithuania','LT'],\n",
    "['Luxembourg','LU'],\n",
    "['Macao','MO'],\n",
    "['Macedonia, the Former Yugoslav Republic of','MK'],\n",
    "['Madagascar','MG'],\n",
    "['Malawi','MW'],\n",
    "['Malaysia','MY'],\n",
    "['Maldives','MV'],\n",
    "['Mali','ML'],\n",
    "['Malta','MT'],\n",
    "['Marshall Islands','MH'],\n",
    "['Martinique','MQ'],\n",
    "['Mauritania','MR'],\n",
    "['Mauritius','MU'],\n",
    "['Mayotte','YT'],\n",
    "['Mexico','MX'],\n",
    "['Micronesia, Federated States of','FM'],\n",
    "['Moldova, Republic of','MD'],\n",
    "['Monaco','MC'],\n",
    "['Mongolia','MN'],\n",
    "['Montenegro','ME'],\n",
    "['Montserrat','MS'],\n",
    "['Morocco','MA'],\n",
    "['Mozambique','MZ'],\n",
    "['Myanmar','MM'],\n",
    "['Namibia','NA'],\n",
    "['Nauru','NR'],\n",
    "['Nepal','NP'],\n",
    "['Netherlands','NL'],\n",
    "['New Caledonia','NC'],\n",
    "['New Zealand','NZ'],\n",
    "['Nicaragua','NI'],\n",
    "['Niger','NE'],\n",
    "['Nigeria','NG'],\n",
    "['Niue','NU'],\n",
    "['Norfolk Island','NF'],\n",
    "['Northern Mariana Islands','MP'],\n",
    "['Norway','NO'],\n",
    "['Oman','OM'],\n",
    "['Pakistan','PK'],\n",
    "['Palau','PW'],\n",
    "['Palestine, State of','PS'],\n",
    "['Panama','PA'],\n",
    "['Papua New Guinea','PG'],\n",
    "['Paraguay','PY'],\n",
    "['Peru','PE'],\n",
    "['Philippines','PH'],\n",
    "['Pitcairn','PN'],\n",
    "['Poland','PL'],\n",
    "['Portugal','PT'],\n",
    "['Puerto Rico','PR'],\n",
    "['Qatar','QA'],\n",
    "['Romania','RO'],\n",
    "['Russian Federation','RU'],\n",
    "['Rwanda','RW'],\n",
    "['Réunion','RE'],\n",
    "['Saint Barthélemy','BL'],\n",
    "['Saint Helena, Ascension and Tristan da Cunha','SH'],\n",
    "['Saint Kitts and Nevis','KN'],\n",
    "['Saint Lucia','LC'],\n",
    "['Saint Martin (French part)','MF'],\n",
    "['Saint Pierre and Miquelon','PM'],\n",
    "['Saint Vincent and the Grenadines','VC'],\n",
    "['Samoa','WS'],\n",
    "['San Marino','SM'],\n",
    "['Sao Tome and Principe','ST'],\n",
    "['Saudi Arabia','SA'],\n",
    "['Senegal','SN'],\n",
    "['Serbia','RS'],\n",
    "['Seychelles','SC'],\n",
    "['Sierra Leone','SL'],\n",
    "['Singapore','SG'],\n",
    "['Sint Maarten (Dutch part)','SX'],\n",
    "['Slovakia','SK'],\n",
    "['Slovenia','SI'],\n",
    "['Solomon Islands','SB'],\n",
    "['Somalia','SO'],\n",
    "['South Africa','ZA'],\n",
    "['South Georgia and the South Sandwich Islands','GS'],\n",
    "['South Sudan','SS'],\n",
    "['Spain','ES'],\n",
    "['Sri Lanka','LK'],\n",
    "['Sudan','SD'],\n",
    "['Suriname','SR'],\n",
    "['Svalbard and Jan Mayen','SJ'],\n",
    "['Swaziland','SZ'],\n",
    "['Sweden','SE'],\n",
    "['Switzerland','CH'],\n",
    "['Syrian Arab Republic','SY'],\n",
    "['Taiwan, Province of China','TW'],\n",
    "['Tajikistan','TJ'],\n",
    "['Tanzania, United Republic of','TZ'],\n",
    "['Thailand','TH'],\n",
    "['Timor-Leste','TL'],\n",
    "['Togo','TG'],\n",
    "['Tokelau','TK'],\n",
    "['Tonga','TO'],\n",
    "['Trinidad and Tobago','TT'],\n",
    "['Tunisia','TN'],\n",
    "['Turkey','TR'],\n",
    "['Turkmenistan','TM'],\n",
    "['Turks and Caicos Islands','TC'],\n",
    "['Tuvalu','TV'],\n",
    "['Uganda','UG'],\n",
    "['Ukraine','UA'],\n",
    "['United Arab Emirates','AE'],\n",
    "['United Kingdom','GB'],\n",
    "['United States','US'],\n",
    "['United States Minor Outlying Islands','UM'],\n",
    "['Uruguay','UY'],\n",
    "['Uzbekistan','UZ'],\n",
    "['Vanuatu','VU'],\n",
    "['Venezuela, Bolivarian Republic of','VE'],\n",
    "['Vietnam','VN'],\n",
    "['Virgin Islands, British','VG'],\n",
    "['Virgin Islands, U.S.', 'VI'],\n",
    "['Wallis and Futuna','WF'],\n",
    "['Western Sahara','EH'],\n",
    "['Yemen','YE'],\n",
    "['Zambia','ZM'],\n",
    "['Zimbabwe','ZW'],\n",
    "['Åland Islands','AX']]\n",
    "\n",
    "dim_country_codes = spark.createDataFrame(data,schema=country_schema)\n",
    "display(dim_country_codes)"
   ]
  },
  {
   "cell_type": "code",
   "execution_count": 0,
   "metadata": {
    "application/vnd.databricks.v1+cell": {
     "cellMetadata": {
      "byteLimit": 2048000,
      "rowLimit": 10000
     },
     "inputWidgets": {},
     "nuid": "7becf458-9b5d-473a-b7b1-fb03c2ebc062",
     "showTitle": false,
     "tableResultSettingsMap": {},
     "title": ""
    }
   },
   "outputs": [
    {
     "output_type": "display_data",
     "data": {
      "text/html": [
       "<style scoped>\n",
       "  .table-result-container {\n",
       "    max-height: 300px;\n",
       "    overflow: auto;\n",
       "  }\n",
       "  table, th, td {\n",
       "    border: 1px solid black;\n",
       "    border-collapse: collapse;\n",
       "  }\n",
       "  th, td {\n",
       "    padding: 5px;\n",
       "  }\n",
       "  th {\n",
       "    text-align: left;\n",
       "  }\n",
       "</style><div class='table-result-container'><table class='table-result'><thead style='background-color: white'><tr><th>reaction_outcome_id</th><th>reaction_outcome</th></tr></thead><tbody><tr><td>1</td><td>Recovered/Resolved</td></tr><tr><td>2</td><td>Recovering/Resolving</td></tr><tr><td>3</td><td>Not Recovered/Not Resolved</td></tr><tr><td>4</td><td>Recovered/Resolved with Sequelae (consequent health issues)</td></tr><tr><td>5</td><td>Fatal</td></tr><tr><td>6</td><td>Unknown</td></tr></tbody></table></div>"
      ]
     },
     "metadata": {
      "application/vnd.databricks.v1+output": {
       "addedWidgets": {},
       "aggData": [],
       "aggError": "",
       "aggOverflow": false,
       "aggSchema": [],
       "aggSeriesLimitReached": false,
       "aggType": "",
       "arguments": {},
       "columnCustomDisplayInfos": {},
       "data": [
        [
         "1",
         "Recovered/Resolved"
        ],
        [
         "2",
         "Recovering/Resolving"
        ],
        [
         "3",
         "Not Recovered/Not Resolved"
        ],
        [
         "4",
         "Recovered/Resolved with Sequelae (consequent health issues)"
        ],
        [
         "5",
         "Fatal"
        ],
        [
         "6",
         "Unknown"
        ]
       ],
       "datasetInfos": [],
       "dbfsResultPath": null,
       "isJsonSchema": true,
       "metadata": {},
       "overflow": false,
       "plotOptions": {
        "customPlotOptions": {},
        "displayType": "table",
        "pivotAggregation": null,
        "pivotColumns": null,
        "xColumns": null,
        "yColumns": null
       },
       "removedWidgets": [],
       "schema": [
        {
         "metadata": "{}",
         "name": "reaction_outcome_id",
         "type": "\"string\""
        },
        {
         "metadata": "{}",
         "name": "reaction_outcome",
         "type": "\"string\""
        }
       ],
       "type": "table"
      }
     },
     "output_type": "display_data"
    }
   ],
   "source": [
    "reaction_schema = StructType([\n",
    "    StructField(\"reaction_outcome_id\", StringType()),\n",
    "    StructField(\"reaction_outcome\", StringType())])\n",
    "\n",
    "reaction_outcome_data = [['1', 'Recovered/Resolved'],\n",
    "                 ['2', 'Recovering/Resolving'],\n",
    "                 ['3', 'Not Recovered/Not Resolved'],\n",
    "                 ['4', 'Recovered/Resolved with Sequelae (consequent health issues)'],\n",
    "                 ['5', 'Fatal'],\n",
    "                 ['6', 'Unknown']]\n",
    "dim_reaction_outcome = spark.createDataFrame(reaction_outcome_data,schema=reaction_schema)\n",
    "display(dim_reaction_outcome)"
   ]
  },
  {
   "cell_type": "code",
   "execution_count": 0,
   "metadata": {
    "application/vnd.databricks.v1+cell": {
     "cellMetadata": {
      "byteLimit": 2048000,
      "rowLimit": 10000
     },
     "inputWidgets": {},
     "nuid": "bed481dd-16cd-405d-9ba0-f921528fff35",
     "showTitle": false,
     "tableResultSettingsMap": {},
     "title": ""
    }
   },
   "outputs": [
    {
     "output_type": "display_data",
     "data": {
      "text/html": [
       "<style scoped>\n",
       "  .table-result-container {\n",
       "    max-height: 300px;\n",
       "    overflow: auto;\n",
       "  }\n",
       "  table, th, td {\n",
       "    border: 1px solid black;\n",
       "    border-collapse: collapse;\n",
       "  }\n",
       "  th, td {\n",
       "    padding: 5px;\n",
       "  }\n",
       "  th {\n",
       "    text-align: left;\n",
       "  }\n",
       "</style><div class='table-result-container'><table class='table-result'><thead style='background-color: white'><tr><th>severity_id</th><th>severity_description</th></tr></thead><tbody><tr><td>1</td><td>death</td></tr><tr><td>2</td><td>life threatening</td></tr><tr><td>3</td><td>disabling</td></tr><tr><td>4</td><td>hospitalized</td></tr><tr><td>5</td><td>congenital anomaly</td></tr><tr><td>6</td><td>other issues</td></tr><tr><td>7</td><td>unknown severity</td></tr></tbody></table></div>"
      ]
     },
     "metadata": {
      "application/vnd.databricks.v1+output": {
       "addedWidgets": {},
       "aggData": [],
       "aggError": "",
       "aggOverflow": false,
       "aggSchema": [],
       "aggSeriesLimitReached": false,
       "aggType": "",
       "arguments": {},
       "columnCustomDisplayInfos": {},
       "data": [
        [
         "1",
         "death"
        ],
        [
         "2",
         "life threatening"
        ],
        [
         "3",
         "disabling"
        ],
        [
         "4",
         "hospitalized"
        ],
        [
         "5",
         "congenital anomaly"
        ],
        [
         "6",
         "other issues"
        ],
        [
         "7",
         "unknown severity"
        ]
       ],
       "datasetInfos": [],
       "dbfsResultPath": null,
       "isJsonSchema": true,
       "metadata": {},
       "overflow": false,
       "plotOptions": {
        "customPlotOptions": {},
        "displayType": "table",
        "pivotAggregation": null,
        "pivotColumns": null,
        "xColumns": null,
        "yColumns": null
       },
       "removedWidgets": [],
       "schema": [
        {
         "metadata": "{}",
         "name": "severity_id",
         "type": "\"string\""
        },
        {
         "metadata": "{}",
         "name": "severity_description",
         "type": "\"string\""
        }
       ],
       "type": "table"
      }
     },
     "output_type": "display_data"
    }
   ],
   "source": [
    "severity_schema = StructType([\n",
    "    StructField(\"severity_id\", StringType()),\n",
    "    StructField(\"severity_description\", StringType())])\n",
    "\n",
    "severity_data = [[1, 'death'],\n",
    "                 [2, 'life threatening'],\n",
    "                 [3, 'disabling'],\n",
    "                 [4, 'hospitalized'],\n",
    "                 [5, 'congenital anomaly'],\n",
    "                 [6, 'other issues'],\n",
    "                 [7, 'unknown severity']]\n",
    "dim_severity = spark.createDataFrame(severity_data,schema=severity_schema)\n",
    "display(dim_severity)"
   ]
  },
  {
   "cell_type": "code",
   "execution_count": 0,
   "metadata": {
    "application/vnd.databricks.v1+cell": {
     "cellMetadata": {
      "byteLimit": 2048000,
      "rowLimit": 10000
     },
     "inputWidgets": {},
     "nuid": "8ee88a6b-cc2a-42cb-a2a7-4d7e1a563bce",
     "showTitle": false,
     "tableResultSettingsMap": {},
     "title": ""
    }
   },
   "outputs": [
    {
     "output_type": "display_data",
     "data": {
      "text/html": [
       "<style scoped>\n",
       "  .table-result-container {\n",
       "    max-height: 300px;\n",
       "    overflow: auto;\n",
       "  }\n",
       "  table, th, td {\n",
       "    border: 1px solid black;\n",
       "    border-collapse: collapse;\n",
       "  }\n",
       "  th, td {\n",
       "    padding: 5px;\n",
       "  }\n",
       "  th {\n",
       "    text-align: left;\n",
       "  }\n",
       "</style><div class='table-result-container'><table class='table-result'><thead style='background-color: white'><tr><th>reaction_outcome_id</th><th>reaction_outcome</th></tr></thead><tbody><tr><td>1</td><td>Drug Withdrawn</td></tr><tr><td>2</td><td>Dose Reduced</td></tr><tr><td>3</td><td>Dose Increased</td></tr><tr><td>4</td><td>Dose Not Changed</td></tr><tr><td>5</td><td>Unknown</td></tr><tr><td>6</td><td>Not Applicable</td></tr></tbody></table></div>"
      ]
     },
     "metadata": {
      "application/vnd.databricks.v1+output": {
       "addedWidgets": {},
       "aggData": [],
       "aggError": "",
       "aggOverflow": false,
       "aggSchema": [],
       "aggSeriesLimitReached": false,
       "aggType": "",
       "arguments": {},
       "columnCustomDisplayInfos": {},
       "data": [
        [
         "1",
         "Drug Withdrawn"
        ],
        [
         "2",
         "Dose Reduced"
        ],
        [
         "3",
         "Dose Increased"
        ],
        [
         "4",
         "Dose Not Changed"
        ],
        [
         "5",
         "Unknown"
        ],
        [
         "6",
         "Not Applicable"
        ]
       ],
       "datasetInfos": [],
       "dbfsResultPath": null,
       "isJsonSchema": true,
       "metadata": {},
       "overflow": false,
       "plotOptions": {
        "customPlotOptions": {},
        "displayType": "table",
        "pivotAggregation": null,
        "pivotColumns": null,
        "xColumns": null,
        "yColumns": null
       },
       "removedWidgets": [],
       "schema": [
        {
         "metadata": "{}",
         "name": "reaction_outcome_id",
         "type": "\"string\""
        },
        {
         "metadata": "{}",
         "name": "reaction_outcome",
         "type": "\"string\""
        }
       ],
       "type": "table"
      }
     },
     "output_type": "display_data"
    }
   ],
   "source": [
    "action_schema = StructType([\n",
    "    StructField(\"reaction_outcome_id\", StringType()),\n",
    "    StructField(\"reaction_outcome\", StringType())])\n",
    "\n",
    "action_taken_data = [['1', 'Drug Withdrawn'],\n",
    "                 ['2', 'Dose Reduced'],\n",
    "                 ['3', 'Dose Increased'],\n",
    "                 ['4', 'Dose Not Changed'],\n",
    "                 ['5', 'Unknown'],\n",
    "                 ['6', 'Not Applicable']]\n",
    "dim_action_taken = spark.createDataFrame(action_taken_data,schema=action_schema)\n",
    "display(dim_action_taken)"
   ]
  },
  {
   "cell_type": "code",
   "execution_count": 0,
   "metadata": {
    "application/vnd.databricks.v1+cell": {
     "cellMetadata": {
      "byteLimit": 2048000,
      "rowLimit": 10000
     },
     "inputWidgets": {},
     "nuid": "c44fae7a-e206-40d9-9ea6-852c392e6639",
     "showTitle": false,
     "tableResultSettingsMap": {},
     "title": ""
    }
   },
   "outputs": [
    {
     "output_type": "display_data",
     "data": {
      "text/html": [
       "<style scoped>\n",
       "  .table-result-container {\n",
       "    max-height: 300px;\n",
       "    overflow: auto;\n",
       "  }\n",
       "  table, th, td {\n",
       "    border: 1px solid black;\n",
       "    border-collapse: collapse;\n",
       "  }\n",
       "  th, td {\n",
       "    padding: 5px;\n",
       "  }\n",
       "  th {\n",
       "    text-align: left;\n",
       "  }\n",
       "</style><div class='table-result-container'><table class='table-result'><thead style='background-color: white'><tr><th>id</th><th>route_name</th><th>descrption</th></tr></thead><tbody><tr><td>013</td><td>auricular (otic)</td><td>administration to or by way of the ear</td></tr><tr><td>030</td><td>buccal</td><td>administration directed toward the cheek, generally from within the mouth</td></tr><tr><td>068</td><td>conjunctival</td><td>administration to the conjunctiva, the delicate membrane that lines the eyelids and covers the exposed surface of the eyeball</td></tr><tr><td>130</td><td>cutaneous</td><td>administration to the skin</td></tr><tr><td>038</td><td>dental</td><td>administration to a tooth or teeth</td></tr><tr><td>357</td><td>electro-osmosis</td><td>administration of through the diffusion of substance through a membrane in an electric field</td></tr><tr><td>131</td><td>endocervical</td><td>administration within the canal of the cervix uteri.  synonymous with the term intracervical</td></tr><tr><td>133</td><td>endosinusial</td><td>administration within the nasal sinuses of the head</td></tr><tr><td>401</td><td>endotracheal</td><td>administration directly into the trachea</td></tr><tr><td>313</td><td>enteral</td><td>administration directly into the intestines</td></tr><tr><td>009</td><td>epidural</td><td>administration upon or over the dura mater</td></tr><tr><td>402</td><td>extra‑amniotic</td><td>administration to the outside of the membrane enveloping the fetus</td></tr><tr><td>057</td><td>extracorporeal</td><td>administration outside of the body</td></tr><tr><td>140</td><td>hemodialysis</td><td>administration through hemodialysate fluid</td></tr><tr><td>361</td><td>infiltration</td><td>administration that results in substances passing into tissue spaces or into cells</td></tr><tr><td>088</td><td>interstitial</td><td>administration to or in the interstices of a tissue</td></tr><tr><td>056</td><td>intra-abdominal</td><td>administration within the abdomen</td></tr><tr><td>060</td><td>intra-amniotic</td><td>administration within the amnion</td></tr><tr><td>037</td><td>intra-arterial</td><td>administration within an artery or arteries</td></tr><tr><td>007</td><td>intra-articular</td><td>administration within a joint</td></tr><tr><td>362</td><td>intrabiliary</td><td>administration within the bile, bile ducts or gallbladder</td></tr><tr><td>067</td><td>intrabronchial</td><td>administration within a bronchus</td></tr><tr><td>025</td><td>intrabursal</td><td>administration within a bursa</td></tr><tr><td>027</td><td>intracardiac</td><td>administration with the heart</td></tr><tr><td>363</td><td>intracartilaginous</td><td>administration within a cartilage; endochondral</td></tr><tr><td>413</td><td>intracaudal</td><td>administration within the cauda equina</td></tr><tr><td>132</td><td>intracavernous</td><td>administration within a pathologic cavity, such as occurs in the lung in tuberculosis</td></tr><tr><td>023</td><td>intracavitary</td><td>administration within a non-pathologic cavity, such as that of the cervix, uterus, or penis, or such as that which is formed as the result of a wound</td></tr><tr><td>404</td><td>intracerebral</td><td>administration within the cerebrum</td></tr><tr><td>405</td><td>intracisternal</td><td>administration within the cisterna magna cerebellomedularis</td></tr><tr><td>406</td><td>intracorneal</td><td>administration within the cornea (the transparent structure forming the anterior part of the fibrous tunic of the eye)</td></tr><tr><td>117</td><td>intracoronal, dental</td><td>administration of a drug within a portion of a tooth which is covered by enamel and which is separated from the roots by a slightly constricted region known as the neck</td></tr><tr><td>119</td><td>intracoronary</td><td>administration within the coronary arteries</td></tr><tr><td>403</td><td>intracorporus cavernosum</td><td>administration within the dilatable spaces of the corporus cavernosa of the penis</td></tr><tr><td>008</td><td>intradermal</td><td>administration within the dermis</td></tr><tr><td>121</td><td>intradiscal</td><td>administration within a disc</td></tr><tr><td>123</td><td>intraductal</td><td>administration within the duct of a gland</td></tr><tr><td>047</td><td>intraduodenal</td><td>administration within the duodenum</td></tr><tr><td>052</td><td>intradural</td><td>administration within or beneath the dura</td></tr><tr><td>127</td><td>intraepidermal</td><td>administration within the epidermis</td></tr><tr><td>072</td><td>intraesophageal</td><td>administration within the esophagus</td></tr><tr><td>046</td><td>intragastric</td><td>administration within the stomach</td></tr><tr><td>365</td><td>intraileal</td><td>administration within the distal portion of the small intestine, from the jejunum to the cecum</td></tr><tr><td>042</td><td>intralesional</td><td>administration within or introduced directly into a localized lesion</td></tr><tr><td>310</td><td>intraluminal</td><td>administration within the lumen of a tube</td></tr><tr><td>352</td><td>intralymphatic</td><td>administration within the lymph</td></tr><tr><td>408</td><td>intramedullary</td><td>administration within the marrow cavity of a bone</td></tr><tr><td>409</td><td>intrameningeal</td><td>administration within the meninges (the three membranes that envelope the brain and spinal cord)</td></tr><tr><td>005</td><td>intramuscular</td><td>administration within a muscle</td></tr><tr><td>036</td><td>intraocular</td><td>administration within the eye</td></tr><tr><td>354</td><td>intraovarian</td><td>administration within the ovary</td></tr><tr><td>314</td><td>intrapericardial</td><td>administration within the pericardium</td></tr><tr><td>004</td><td>intraperitoneal</td><td>administration within the peritoneal cavity</td></tr><tr><td>043</td><td>intrapleural</td><td>administration within the pleura</td></tr><tr><td>061</td><td>intraprostatic</td><td>administration within the prostate gland</td></tr><tr><td>414</td><td>intrapulmonary</td><td>administration within the lungs or its bronchi</td></tr><tr><td>010</td><td>intrasinal</td><td>administration within the nasal or periorbital sinuses</td></tr><tr><td>022</td><td>intraspinal</td><td>administration within the vertebral column</td></tr><tr><td>019</td><td>intrasynovial</td><td>administration within the synovial cavity of a joint</td></tr><tr><td>049</td><td>intratendinous</td><td>administration within a tendon</td></tr><tr><td>110</td><td>intratesticular</td><td>administration within the testicle</td></tr><tr><td>103</td><td>intrathecal</td><td>administration within the cerebrospinal fluid at any level of the cerebrospinal axis, including injection into the cerebral ventricles</td></tr><tr><td>006</td><td>intrathoracic</td><td>administration within the thorax (internal to the ribs); synonymous with the term endothoracic</td></tr><tr><td>353</td><td>intratubular</td><td>administration within the tubules of an organ</td></tr><tr><td>020</td><td>intratumor</td><td>administration within a tumor</td></tr><tr><td>366</td><td>intratympanic</td><td>administration within the aurus media</td></tr><tr><td>028</td><td>intrauterine</td><td>administration within the uterus</td></tr><tr><td>021</td><td>intravascular</td><td>administration within a vessel or vessels</td></tr><tr><td>002</td><td>intravenous</td><td>administration within or into a vein or veins</td></tr><tr><td>138</td><td>intravenous bolus</td><td>administration within or into a vein or veins all at once</td></tr><tr><td>137</td><td>intravenous drip</td><td>administration within or into a vein or veins over a sustained period of time</td></tr><tr><td>048</td><td>intraventricular</td><td>administration within a ventricle</td></tr><tr><td>128</td><td>intravesical</td><td>administration within the bladder</td></tr><tr><td>311</td><td>intravitreal</td><td>administration within the vitreous body of the eye</td></tr><tr><td>055</td><td>iontophoresis</td><td>administration by means of an electric current where ions of soluble salts migrate into the tissues of the body</td></tr><tr><td>032</td><td>irrigation</td><td>administration to bathe or flush open wounds or body cavities</td></tr><tr><td>364</td><td>laryngeal</td><td>administration directly upon the larynx</td></tr><tr><td>014</td><td>nasal</td><td>administration to the nose; administered by way of the nose</td></tr><tr><td>071</td><td>nasogastric</td><td>administration through the nose and into the stomach, usually by means of a tube</td></tr><tr><td>312</td><td>not applicable</td><td>routes of administration are not applicable</td></tr><tr><td>134</td><td>occlusive dressing technique</td><td>administration by the topical route which is then covered by a dressing which occludes the area</td></tr><tr><td>012</td><td>ophthalmic</td><td>administration  to the external eye</td></tr><tr><td>001</td><td>oral</td><td>administration to or by way of the mouth</td></tr><tr><td>410</td><td>oropharyngeal</td><td>administration directly to the mouth and pharynx</td></tr><tr><td>135</td><td>other</td><td>administration is different from others on this list</td></tr><tr><td>411</td><td>parenteral</td><td>administration by injection, infusion, or implantation</td></tr><tr><td>113</td><td>percutaneous</td><td>administration through the skin</td></tr><tr><td>011</td><td>periarticular</td><td>administration surrounding a joint</td></tr><tr><td>003</td><td>peritoneal</td><td>administration to or by way of the peritoneal cavity</td></tr><tr><td>412</td><td>pharyngeal</td><td>administration directly to the pharynx</td></tr><tr><td>031</td><td>po</td><td>administration by mouth</td></tr><tr><td>018</td><td>prostatic</td><td>administration to the prostate</td></tr><tr><td>015</td><td>rectal</td><td>administration to or by way of the rectum</td></tr><tr><td>017</td><td>respiratory</td><td>administration through the respiratory tract, as with inhalation</td></tr><tr><td>020</td><td>sc</td><td>administration by subcutaneous injection</td></tr><tr><td>003</td><td>sct</td><td>administration by transdermal route (percutaneous)</td></tr><tr><td>091</td><td>topical</td><td>administration applied to the skin or mucous membrane</td></tr><tr><td>024</td><td>transdermal</td><td>administration through the skin (a topical route of administration which may include the use of patches)</td></tr><tr><td>030</td><td>transluminal</td><td>administration through a lumen or lumina</td></tr><tr><td>369</td><td>transpulmonary</td><td>administration through the pulmonary artery</td></tr><tr><td>065</td><td>urinary</td><td>administration to the urinary tract</td></tr><tr><td>016</td><td>vaginal</td><td>administration to or by way of the vagina</td></tr><tr><td>066</td><td>vertebral</td><td>administration to the vertebra</td></tr></tbody></table></div>"
      ]
     },
     "metadata": {
      "application/vnd.databricks.v1+output": {
       "addedWidgets": {},
       "aggData": [],
       "aggError": "",
       "aggOverflow": false,
       "aggSchema": [],
       "aggSeriesLimitReached": false,
       "aggType": "",
       "arguments": {},
       "columnCustomDisplayInfos": {},
       "data": [
        [
         "013",
         "auricular (otic)",
         "administration to or by way of the ear"
        ],
        [
         "030",
         "buccal",
         "administration directed toward the cheek, generally from within the mouth"
        ],
        [
         "068",
         "conjunctival",
         "administration to the conjunctiva, the delicate membrane that lines the eyelids and covers the exposed surface of the eyeball"
        ],
        [
         "130",
         "cutaneous",
         "administration to the skin"
        ],
        [
         "038",
         "dental",
         "administration to a tooth or teeth"
        ],
        [
         "357",
         "electro-osmosis",
         "administration of through the diffusion of substance through a membrane in an electric field"
        ],
        [
         "131",
         "endocervical",
         "administration within the canal of the cervix uteri.  synonymous with the term intracervical"
        ],
        [
         "133",
         "endosinusial",
         "administration within the nasal sinuses of the head"
        ],
        [
         "401",
         "endotracheal",
         "administration directly into the trachea"
        ],
        [
         "313",
         "enteral",
         "administration directly into the intestines"
        ],
        [
         "009",
         "epidural",
         "administration upon or over the dura mater"
        ],
        [
         "402",
         "extra‑amniotic",
         "administration to the outside of the membrane enveloping the fetus"
        ],
        [
         "057",
         "extracorporeal",
         "administration outside of the body"
        ],
        [
         "140",
         "hemodialysis",
         "administration through hemodialysate fluid"
        ],
        [
         "361",
         "infiltration",
         "administration that results in substances passing into tissue spaces or into cells"
        ],
        [
         "088",
         "interstitial",
         "administration to or in the interstices of a tissue"
        ],
        [
         "056",
         "intra-abdominal",
         "administration within the abdomen"
        ],
        [
         "060",
         "intra-amniotic",
         "administration within the amnion"
        ],
        [
         "037",
         "intra-arterial",
         "administration within an artery or arteries"
        ],
        [
         "007",
         "intra-articular",
         "administration within a joint"
        ],
        [
         "362",
         "intrabiliary",
         "administration within the bile, bile ducts or gallbladder"
        ],
        [
         "067",
         "intrabronchial",
         "administration within a bronchus"
        ],
        [
         "025",
         "intrabursal",
         "administration within a bursa"
        ],
        [
         "027",
         "intracardiac",
         "administration with the heart"
        ],
        [
         "363",
         "intracartilaginous",
         "administration within a cartilage; endochondral"
        ],
        [
         "413",
         "intracaudal",
         "administration within the cauda equina"
        ],
        [
         "132",
         "intracavernous",
         "administration within a pathologic cavity, such as occurs in the lung in tuberculosis"
        ],
        [
         "023",
         "intracavitary",
         "administration within a non-pathologic cavity, such as that of the cervix, uterus, or penis, or such as that which is formed as the result of a wound"
        ],
        [
         "404",
         "intracerebral",
         "administration within the cerebrum"
        ],
        [
         "405",
         "intracisternal",
         "administration within the cisterna magna cerebellomedularis"
        ],
        [
         "406",
         "intracorneal",
         "administration within the cornea (the transparent structure forming the anterior part of the fibrous tunic of the eye)"
        ],
        [
         "117",
         "intracoronal, dental",
         "administration of a drug within a portion of a tooth which is covered by enamel and which is separated from the roots by a slightly constricted region known as the neck"
        ],
        [
         "119",
         "intracoronary",
         "administration within the coronary arteries"
        ],
        [
         "403",
         "intracorporus cavernosum",
         "administration within the dilatable spaces of the corporus cavernosa of the penis"
        ],
        [
         "008",
         "intradermal",
         "administration within the dermis"
        ],
        [
         "121",
         "intradiscal",
         "administration within a disc"
        ],
        [
         "123",
         "intraductal",
         "administration within the duct of a gland"
        ],
        [
         "047",
         "intraduodenal",
         "administration within the duodenum"
        ],
        [
         "052",
         "intradural",
         "administration within or beneath the dura"
        ],
        [
         "127",
         "intraepidermal",
         "administration within the epidermis"
        ],
        [
         "072",
         "intraesophageal",
         "administration within the esophagus"
        ],
        [
         "046",
         "intragastric",
         "administration within the stomach"
        ],
        [
         "365",
         "intraileal",
         "administration within the distal portion of the small intestine, from the jejunum to the cecum"
        ],
        [
         "042",
         "intralesional",
         "administration within or introduced directly into a localized lesion"
        ],
        [
         "310",
         "intraluminal",
         "administration within the lumen of a tube"
        ],
        [
         "352",
         "intralymphatic",
         "administration within the lymph"
        ],
        [
         "408",
         "intramedullary",
         "administration within the marrow cavity of a bone"
        ],
        [
         "409",
         "intrameningeal",
         "administration within the meninges (the three membranes that envelope the brain and spinal cord)"
        ],
        [
         "005",
         "intramuscular",
         "administration within a muscle"
        ],
        [
         "036",
         "intraocular",
         "administration within the eye"
        ],
        [
         "354",
         "intraovarian",
         "administration within the ovary"
        ],
        [
         "314",
         "intrapericardial",
         "administration within the pericardium"
        ],
        [
         "004",
         "intraperitoneal",
         "administration within the peritoneal cavity"
        ],
        [
         "043",
         "intrapleural",
         "administration within the pleura"
        ],
        [
         "061",
         "intraprostatic",
         "administration within the prostate gland"
        ],
        [
         "414",
         "intrapulmonary",
         "administration within the lungs or its bronchi"
        ],
        [
         "010",
         "intrasinal",
         "administration within the nasal or periorbital sinuses"
        ],
        [
         "022",
         "intraspinal",
         "administration within the vertebral column"
        ],
        [
         "019",
         "intrasynovial",
         "administration within the synovial cavity of a joint"
        ],
        [
         "049",
         "intratendinous",
         "administration within a tendon"
        ],
        [
         "110",
         "intratesticular",
         "administration within the testicle"
        ],
        [
         "103",
         "intrathecal",
         "administration within the cerebrospinal fluid at any level of the cerebrospinal axis, including injection into the cerebral ventricles"
        ],
        [
         "006",
         "intrathoracic",
         "administration within the thorax (internal to the ribs); synonymous with the term endothoracic"
        ],
        [
         "353",
         "intratubular",
         "administration within the tubules of an organ"
        ],
        [
         "020",
         "intratumor",
         "administration within a tumor"
        ],
        [
         "366",
         "intratympanic",
         "administration within the aurus media"
        ],
        [
         "028",
         "intrauterine",
         "administration within the uterus"
        ],
        [
         "021",
         "intravascular",
         "administration within a vessel or vessels"
        ],
        [
         "002",
         "intravenous",
         "administration within or into a vein or veins"
        ],
        [
         "138",
         "intravenous bolus",
         "administration within or into a vein or veins all at once"
        ],
        [
         "137",
         "intravenous drip",
         "administration within or into a vein or veins over a sustained period of time"
        ],
        [
         "048",
         "intraventricular",
         "administration within a ventricle"
        ],
        [
         "128",
         "intravesical",
         "administration within the bladder"
        ],
        [
         "311",
         "intravitreal",
         "administration within the vitreous body of the eye"
        ],
        [
         "055",
         "iontophoresis",
         "administration by means of an electric current where ions of soluble salts migrate into the tissues of the body"
        ],
        [
         "032",
         "irrigation",
         "administration to bathe or flush open wounds or body cavities"
        ],
        [
         "364",
         "laryngeal",
         "administration directly upon the larynx"
        ],
        [
         "014",
         "nasal",
         "administration to the nose; administered by way of the nose"
        ],
        [
         "071",
         "nasogastric",
         "administration through the nose and into the stomach, usually by means of a tube"
        ],
        [
         "312",
         "not applicable",
         "routes of administration are not applicable"
        ],
        [
         "134",
         "occlusive dressing technique",
         "administration by the topical route which is then covered by a dressing which occludes the area"
        ],
        [
         "012",
         "ophthalmic",
         "administration  to the external eye"
        ],
        [
         "001",
         "oral",
         "administration to or by way of the mouth"
        ],
        [
         "410",
         "oropharyngeal",
         "administration directly to the mouth and pharynx"
        ],
        [
         "135",
         "other",
         "administration is different from others on this list"
        ],
        [
         "411",
         "parenteral",
         "administration by injection, infusion, or implantation"
        ],
        [
         "113",
         "percutaneous",
         "administration through the skin"
        ],
        [
         "011",
         "periarticular",
         "administration surrounding a joint"
        ],
        [
         "003",
         "peritoneal",
         "administration to or by way of the peritoneal cavity"
        ],
        [
         "412",
         "pharyngeal",
         "administration directly to the pharynx"
        ],
        [
         "031",
         "po",
         "administration by mouth"
        ],
        [
         "018",
         "prostatic",
         "administration to the prostate"
        ],
        [
         "015",
         "rectal",
         "administration to or by way of the rectum"
        ],
        [
         "017",
         "respiratory",
         "administration through the respiratory tract, as with inhalation"
        ],
        [
         "020",
         "sc",
         "administration by subcutaneous injection"
        ],
        [
         "003",
         "sct",
         "administration by transdermal route (percutaneous)"
        ],
        [
         "091",
         "topical",
         "administration applied to the skin or mucous membrane"
        ],
        [
         "024",
         "transdermal",
         "administration through the skin (a topical route of administration which may include the use of patches)"
        ],
        [
         "030",
         "transluminal",
         "administration through a lumen or lumina"
        ],
        [
         "369",
         "transpulmonary",
         "administration through the pulmonary artery"
        ],
        [
         "065",
         "urinary",
         "administration to the urinary tract"
        ],
        [
         "016",
         "vaginal",
         "administration to or by way of the vagina"
        ],
        [
         "066",
         "vertebral",
         "administration to the vertebra"
        ]
       ],
       "datasetInfos": [],
       "dbfsResultPath": null,
       "isJsonSchema": true,
       "metadata": {},
       "overflow": false,
       "plotOptions": {
        "customPlotOptions": {},
        "displayType": "table",
        "pivotAggregation": null,
        "pivotColumns": null,
        "xColumns": null,
        "yColumns": null
       },
       "removedWidgets": [],
       "schema": [
        {
         "metadata": "{}",
         "name": "id",
         "type": "\"string\""
        },
        {
         "metadata": "{}",
         "name": "route_name",
         "type": "\"string\""
        },
        {
         "metadata": "{}",
         "name": "descrption",
         "type": "\"string\""
        }
       ],
       "type": "table"
      }
     },
     "output_type": "display_data"
    }
   ],
   "source": [
    "route_schema = StructType([\n",
    "    StructField(\"route_name\", StringType()),\n",
    "    StructField(\"description\", StringType()),\n",
    "    StructField(\"id\", StringType())])\n",
    "\n",
    "route_data = [\n",
    "    (\"AURICULAR (OTIC)\", \"Administration to or by way of the ear.\", \"013\"),\n",
    "    (\"BUCCAL\", \"Administration directed toward the cheek, generally from within the mouth.\", \"030\"),\n",
    "    (\"CONJUNCTIVAL\", \"Administration to the conjunctiva, the delicate membrane that lines the eyelids and covers the exposed surface of the eyeball.\", \"068\"),\n",
    "    (\"CUTANEOUS\", \"Administration to the skin.\", \"130\"),\n",
    "    (\"DENTAL\", \"Administration to a tooth or teeth.\", \"038\"),\n",
    "    (\"ELECTRO-OSMOSIS\", \"Administration of through the diffusion of substance through a membrane in an electric field.\", \"357\"),\n",
    "    (\"ENDOCERVICAL\", \"Administration within the canal of the cervix uteri.  Synonymous with the term intracervical.\", \"131\"),\n",
    "    (\"ENDOSINUSIAL\", \"Administration within the nasal sinuses of the head.\", \"133\"),\n",
    "    (\"ENDOTRACHEAL\", \"Administration directly into the trachea.\", \"401\"),\n",
    "    (\"ENTERAL\", \"Administration directly into the intestines.\", \"313\"),\n",
    "    (\"EPIDURAL\", \"Administration upon or over the dura mater.\", \"009\"),\n",
    "    (\"EXTRA‑AMNIOTIC\", \"Administration to the outside of the membrane enveloping the fetus.\", \"402\"),\n",
    "    (\"EXTRACORPOREAL\", \"Administration outside of the body.\", \"057\"),\n",
    "    (\"HEMODIALYSIS\", \"Administration through hemodialysate fluid.\", \"140\"),\n",
    "    (\"INFILTRATION\", \"Administration that results in substances passing into tissue spaces or into cells.\", \"361\"),\n",
    "    (\"INTERSTITIAL\", \"Administration to or in the interstices of a tissue.\", \"088\"),\n",
    "    (\"INTRA-ABDOMINAL\", \"Administration within the abdomen.\", \"056\"),\n",
    "    (\"INTRA-AMNIOTIC\", \"Administration within the amnion.\", \"060\"),\n",
    "    (\"INTRA-ARTERIAL\", \"Administration within an artery or arteries.\", \"037\"),\n",
    "    (\"INTRA-ARTICULAR\", \"Administration within a joint.\", \"007\"),\n",
    "    (\"INTRABILIARY\", \"Administration within the bile, bile ducts or gallbladder.\", \"362\"),\n",
    "    (\"INTRABRONCHIAL\", \"Administration within a bronchus.\", \"067\"),\n",
    "    (\"INTRABURSAL\", \"Administration within a bursa.\", \"025\"),\n",
    "    (\"INTRACARDIAC\", \"Administration with the heart.\", \"027\"),\n",
    "    (\"INTRACARTILAGINOUS\", \"Administration within a cartilage; endochondral.\", \"363\"),\n",
    "    (\"INTRACAUDAL\", \"Administration within the cauda equina.\", \"413\"),\n",
    "    (\"INTRACAVERNOUS\", \"Administration within a pathologic cavity, such as occurs in the lung in tuberculosis.\", \"132\"),\n",
    "    (\"INTRACAVITARY\", \"Administration within a non-pathologic cavity, such as that of the cervix, uterus, or penis, or such as that which is formed as the result of a wound.\", \"023\"),\n",
    "    (\"INTRACEREBRAL\", \"Administration within the cerebrum.\", \"404\"),\n",
    "    (\"INTRACISTERNAL\", \"Administration within the cisterna magna cerebellomedularis.\", \"405\"),\n",
    "    (\"INTRACORNEAL\", \"Administration within the cornea (the transparent structure forming the anterior part of the fibrous tunic of the eye).\", \"406\"),\n",
    "    (\"INTRACORONAL, DENTAL\", \"Administration of a drug within a portion of a tooth which is covered by enamel and which is separated from the roots by a slightly constricted region known as the neck.\", \"117\"),\n",
    "    (\"INTRACORONARY\", \"Administration within the coronary arteries.\", \"119\"),\n",
    "    (\"INTRACORPORUS CAVERNOSUM\", \"Administration within the dilatable spaces of the corporus cavernosa of the penis.\", \"403\"),\n",
    "    (\"INTRADERMAL\", \"Administration within the dermis.\", \"008\"),\n",
    "    (\"INTRADISCAL\", \"Administration within a disc.\", \"121\"),\n",
    "    (\"INTRADUCTAL\", \"Administration within the duct of a gland.\", \"123\"),\n",
    "    (\"INTRADUODENAL\", \"Administration within the duodenum.\", \"047\"),\n",
    "    (\"INTRADURAL\", \"Administration within or beneath the dura.\", \"052\"),\n",
    "    (\"INTRAEPIDERMAL\", \"Administration within the epidermis.\", \"127\"),\n",
    "    (\"INTRAESOPHAGEAL\", \"Administration within the esophagus.\", \"072\"),\n",
    "    (\"INTRAGASTRIC\", \"Administration within the stomach.\", \"046\"),\n",
    "    (\"INTRAILEAL\", \"Administration within the distal portion of the small intestine, from the jejunum to the cecum.\", \"365\"),\n",
    "    (\"INTRALESIONAL\", \"Administration within or introduced directly into a localized lesion.\", \"042\"),\n",
    "    (\"INTRALUMINAL\", \"Administration within the lumen of a tube.\", \"310\"),\n",
    "    (\"INTRALYMPHATIC\", \"Administration within the lymph.\", \"352\"),\n",
    "    (\"INTRAMEDULLARY\", \"Administration within the marrow cavity of a bone.\", \"408\"),\n",
    "    (\"INTRAMENINGEAL\", \"Administration within the meninges (the three membranes that envelope the brain and spinal cord).\", \"409\"),\n",
    "    (\"INTRAMUSCULAR\", \"Administration within a muscle.\", \"005\"),\n",
    "    (\"INTRAOCULAR\", \"Administration within the eye.\", \"036\"),\n",
    "    (\"INTRAOVARIAN\", \"Administration within the ovary.\", \"354\"),\n",
    "    (\"INTRAPERICARDIAL\", \"Administration within the pericardium.\", \"314\"),\n",
    "    (\"INTRAPERITONEAL\", \"Administration within the peritoneal cavity.\", \"004\"),\n",
    "    (\"INTRAPLEURAL\", \"Administration within the pleura.\", \"043\"),\n",
    "    (\"INTRAPROSTATIC\", \"Administration within the prostate gland.\", \"061\"),\n",
    "    (\"INTRAPULMONARY\", \"Administration within the lungs or its bronchi.\", \"414\"),\n",
    "    (\"INTRASINAL\", \"Administration within the nasal or periorbital sinuses.\", \"010\"),\n",
    "    (\"INTRASPINAL\", \"Administration within the vertebral column.\", \"022\"),\n",
    "    (\"INTRASYNOVIAL\", \"Administration within the synovial cavity of a joint.\", \"019\"),\n",
    "    (\"INTRATENDINOUS\", \"Administration within a tendon.\", \"049\"),\n",
    "    (\"INTRATESTICULAR\", \"Administration within the testicle.\", \"110\"),\n",
    "    (\"INTRATHECAL\", \"Administration within the cerebrospinal fluid at any level of the cerebrospinal axis, including injection into the cerebral ventricles.\", \"103\"),\n",
    "    (\"INTRATHORACIC\", \"Administration within the thorax (internal to the ribs); synonymous with the term endothoracic.\", \"006\"),\n",
    "    (\"INTRATUBULAR\", \"Administration within the tubules of an organ.\", \"353\"),\n",
    "    (\"INTRATUMOR\", \"Administration within a tumor.\", \"020\"),\n",
    "    (\"INTRATYMPANIC\", \"Administration within the aurus media.\", \"366\"),\n",
    "    (\"INTRAUTERINE\", \"Administration within the uterus.\", \"028\"),\n",
    "    (\"INTRAVASCULAR\", \"Administration within a vessel or vessels.\", \"021\"),\n",
    "    (\"INTRAVENOUS\", \"Administration within or into a vein or veins.\", \"002\"),\n",
    "    (\"INTRAVENOUS BOLUS\", \"Administration within or into a vein or veins all at once.\", \"138\"),\n",
    "    (\"INTRAVENOUS DRIP\", \"Administration within or into a vein or veins over a sustained period of time.\", \"137\"),\n",
    "    (\"INTRAVENTRICULAR\", \"Administration within a ventricle.\", \"048\"),\n",
    "    (\"INTRAVESICAL\", \"Administration within the bladder.\", \"128\"),\n",
    "    (\"INTRAVITREAL\", \"Administration within the vitreous body of the eye.\", \"311\"),\n",
    "    (\"IONTOPHORESIS\", \"Administration by means of an electric current where ions of soluble salts migrate into the tissues of the body.\", \"055\"),\n",
    "    (\"IRRIGATION\", \"Administration to bathe or flush open wounds or body cavities.\", \"032\"),\n",
    "    (\"LARYNGEAL\", \"Administration directly upon the larynx.\", \"364\"),\n",
    "    (\"NASAL\", \"Administration to the nose; administered by way of the nose.\", \"014\"),\n",
    "    (\"NASOGASTRIC\", \"Administration through the nose and into the stomach, usually by means of a tube.\", \"071\"),\n",
    "    (\"NOT APPLICABLE\", \"Routes of administration are not applicable.\", \"312\"),\n",
    "    (\"OCCLUSIVE DRESSING TECHNIQUE\", \"Administration by the topical route which is then covered by a dressing which occludes the area.\", \"134\"),\n",
    "    (\"OPHTHALMIC\", \"Administration  to the external eye.\", \"012\"),\n",
    "    (\"ORAL\", \"Administration to or by way of the mouth.\", \"001\"),\n",
    "    (\"OROPHARYNGEAL\", \"Administration directly to the mouth and pharynx.\", \"410\"),\n",
    "    (\"OTHER\", \"Administration is different from others on this list.\", \"135\"),\n",
    "    (\"PARENTERAL\", \"Administration by injection, infusion, or implantation.\", \"411\"),\n",
    "    (\"PERCUTANEOUS\", \"Administration through the skin.\", \"113\"),\n",
    "    (\"PERIARTICULAR\", \"Administration surrounding a joint.\", \"011\"),\n",
    "    (\"PERITONEAL\", \"Administration to or by way of the peritoneal cavity.\", \"003\"),\n",
    "    (\"PHARYNGEAL\", \"Administration directly to the pharynx.\", \"412\"),\n",
    "    (\"PO\", \"Administration by mouth.\", \"031\"),\n",
    "    (\"PROSTATIC\", \"Administration to the prostate.\", \"018\"),\n",
    "    (\"RECTAL\", \"Administration to or by way of the rectum.\", \"015\"),\n",
    "    (\"RESPIRATORY\", \"Administration through the respiratory tract, as with inhalation.\", \"017\"),\n",
    "    (\"SC\", \"Administration by subcutaneous injection.\", \"020\"),\n",
    "    (\"SCT\", \"Administration by transdermal route (percutaneous).\", \"003\"),\n",
    "    (\"TOPICAL\", \"Administration applied to the skin or mucous membrane.\", \"091\"),\n",
    "    (\"TRANSDERMAL\", \"Administration through the skin (a topical route of administration which may include the use of patches).\", \"024\"),\n",
    "    (\"TRANSLUMINAL\", \"Administration through a lumen or lumina.\", \"030\"),\n",
    "    (\"TRANSPULMONARY\", \"Administration through the pulmonary artery.\", \"369\"),\n",
    "    (\"URINARY\", \"Administration to the urinary tract.\", \"065\"),\n",
    "    (\"VAGINAL\", \"Administration to or by way of the vagina.\", \"016\"),\n",
    "    (\"VERTEBRAL\", \"Administration to the vertebra.\", \"066\"),\n",
    "]\n",
    "dim_administration_route = spark.createDataFrame(route_data,schema=route_schema)\n",
    "dim_administration_route = dim_administration_route.withColumn(\n",
    "    'route_name', lower(col('route_name'))).withColumn(\n",
    "        'description', lower(col('description')))\n",
    "    \n",
    "dim_administration_route = dim_administration_route.select(col('id'),\n",
    "                                                           col('route_name'),\n",
    "                                                           col('description').substr(lit(0), length(col('description')) - 1).alias('descrption'))\n",
    "\n",
    "display(dim_administration_route)"
   ]
  },
  {
   "cell_type": "code",
   "execution_count": 0,
   "metadata": {
    "application/vnd.databricks.v1+cell": {
     "cellMetadata": {
      "byteLimit": 2048000,
      "rowLimit": 10000
     },
     "inputWidgets": {},
     "nuid": "a2c8efc9-cc7d-4e2c-8dc3-80f445afad8d",
     "showTitle": false,
     "tableResultSettingsMap": {},
     "title": ""
    }
   },
   "outputs": [],
   "source": [
    "dim_action_taken.repartition(1).write.mode(\"overwrite\").option(\"header\", \"true\").csv(f\"mnt/adverse-events/consumer-data/dim_action_taken.csv\")\n",
    "dim_administration_route.repartition(1).write.mode(\"overwrite\").option(\"header\", \"true\").csv(f\"mnt/adverse-events/consumer-data/dim_administration_route.csv\")\n",
    "dim_country_codes.repartition(1).write.mode(\"overwrite\").option(\"header\", \"true\").csv(f\"mnt/adverse-events/consumer-data/dim_country_codes.csv\")\n",
    "dim_reaction_outcome.repartition(1).write.mode(\"overwrite\").option(\"header\", \"true\").csv(f\"mnt/adverse-events/consumer-data/dim_reaction_outcome.csv\")\n",
    "dim_severity.repartition(1).write.mode(\"overwrite\").option(\"header\", \"true\").csv(f\"mnt/adverse-events/consumer-data/dim_severity.csv\")"
   ]
  },
  {
   "cell_type": "code",
   "execution_count": 0,
   "metadata": {
    "application/vnd.databricks.v1+cell": {
     "cellMetadata": {
      "byteLimit": 2048000,
      "rowLimit": 10000
     },
     "inputWidgets": {},
     "nuid": "574d8f72-a812-45d0-a995-024338ce257f",
     "showTitle": false,
     "tableResultSettingsMap": {},
     "title": ""
    }
   },
   "outputs": [],
   "source": []
  }
 ],
 "metadata": {
  "application/vnd.databricks.v1+notebook": {
   "dashboards": [],
   "environmentMetadata": {
    "base_environment": "",
    "client": "1"
   },
   "language": "python",
   "notebookMetadata": {
    "pythonIndentUnit": 4
   },
   "notebookName": "Adverse_Reaction_Static_Tables",
   "widgets": {}
  },
  "language_info": {
   "name": "python"
  }
 },
 "nbformat": 4,
 "nbformat_minor": 0
}
